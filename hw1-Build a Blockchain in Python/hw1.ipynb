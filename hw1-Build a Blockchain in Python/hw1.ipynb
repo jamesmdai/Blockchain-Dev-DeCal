{
 "cells": [
  {
   "cell_type": "markdown",
   "metadata": {},
   "source": [
    "# Build a Blockchain! - Blockchain Design Exercises"
   ]
  },
  {
   "cell_type": "markdown",
   "metadata": {},
   "source": [
    "## HW1 - Build a Blockchain in Python\n",
    "\n",
    "#### Getting Started\n",
    "\n",
    "CS 198-077 Spring 2020 \n",
    "HW1-Build a Blockchain in Python\n",
    "\n",
    "Created by Omkar Shanbhag, Updated by Simon Guo\n",
    "\n",
    "This notebook is meant to be a short introduction to Blockchain implementations, aimed at helping us take the topics we learn about in fundamentals, and seeing how they translate to code. \n",
    "\n",
    "In this notebook we will implement various different aspects of Blockchain technology that we understand including: \n",
    "\n",
    "- The Blockchain Data Structure using OOP \n",
    "- A proof of work simulation \n",
    "- Understanding of the concept of difficulty of finding the next block hash \n",
    "- A simulation of multiple miners with varying computational powers \n",
    "- A bit of data analytics to see if what we've implemented makes sense "
   ]
  },
  {
   "cell_type": "code",
   "execution_count": 7,
   "metadata": {},
   "outputs": [],
   "source": [
    "#Import statements\n",
    "import hashlib as hasher\n",
    "import random as rand\n",
    "import time \n",
    "import datetime as date\n",
    "import ipyparallel as ipp\n",
    "import numpy as np\n",
    "import matplotlib.pyplot as plt"
   ]
  },
  {
   "cell_type": "markdown",
   "metadata": {},
   "source": [
    "# Blockchain Data Structure Design"
   ]
  },
  {
   "cell_type": "markdown",
   "metadata": {},
   "source": [
    "In this section we will define the class \"Block\" and create an init function that creates a new block given some parameters, as well as a function hash_block, that computes the hash of this block based on its class variables. \n",
    "\n",
    "The init function is implemented for you below and creates a block with the following specifications \n",
    "- Index --> the index of the block on the chain (zero indexed)\n",
    "- Timestamp --> time that the block was added on to the chain\n",
    "- data --> The data the block contains (Usually points to root of merkel tree, but we can fill it with whatever for this)\n",
    "- previous_hash --> The hash value of the previous block \n",
    "- hash --> hash of this block computed using the hash_block function\n",
    "- nonce --> the variable value that we change to alter the hash output (Default value = 0, irrelevant in this section)\n",
    "\n",
    "****QUESTION #1: Implement hash_block()****\n",
    "\n",
    "We need to implement the hash_block() which computes the hash value of this block based on how we initialize it. This function takes in no parameters. \n",
    "\n",
    "Desired Functionality:\n",
    "- Concatenate string representations of all the class variables \n",
    "- Computes the SHA256 hash of this concatenation \n",
    "\n",
    "-- HINTS --\n",
    "\n",
    "- use the first import statement!!! \n",
    "- initialize a new hasher\n",
    "- Look into the following words \n",
    "    - utf-8 encoding \n",
    "    - .update() function \n",
    "    - .hexdigest() function\n",
    "    - In order for the test function below to work properly, create the string concatenation in the following order with no spaces or any other characters in between \n",
    "       - index\n",
    "       - timestamp\n",
    "       - data\n",
    "       - previous block hash\n",
    "       - nonce\n",
    "     - If you want to do it another order that incorporates everything thats totally fine, but test function wont work!"
   ]
  },
  {
   "cell_type": "markdown",
   "metadata": {},
   "source": []
  },
  {
   "cell_type": "code",
   "execution_count": 8,
   "metadata": {},
   "outputs": [],
   "source": [
    "class Block:\n",
    "    def __init__(self, index, timestamp, data, previous_hash, nonce=0):\n",
    "        self.index = index\n",
    "        self.timestamp = timestamp\n",
    "        self.data = data\n",
    "        self.nonce = nonce #set to zero as default not applicable in first section \n",
    "        self.previous_hash = previous_hash\n",
    "        self.hash = self.hash_block()\n",
    "\n",
    "    def hash_block(self):\n",
    "        m = hasher.sha256()\n",
    "        big_string = str(self.index) + str(self.timestamp) + str(self.data) + str(self.previous_hash) + str(self.nonce)\n",
    "        big_string = big_string.encode('utf-8')\n",
    "        m.update(big_string)\n",
    "        return m.hexdigest()\n",
    "        \n"
   ]
  },
  {
   "cell_type": "markdown",
   "metadata": {},
   "source": [
    "**TEST YOUR QUESTION 1 CODE HERE**\n",
    "\n",
    "Run the block of code below"
   ]
  },
  {
   "cell_type": "code",
   "execution_count": 9,
   "metadata": {},
   "outputs": [
    {
     "name": "stdout",
     "output_type": "stream",
     "text": [
      "PASSED!!! Move on to next Question\n"
     ]
    }
   ],
   "source": [
    "def test_question_1(index, time, data, previous_hash):\n",
    "    new_block = Block(index, time, data, previous_hash)\n",
    "    check_string = '2def27922fc1c67254a9cdb0c660b91abf9b135ad38fc13c7c77007448b824a0'\n",
    "    print_statement = \"PASSED!!! Move on to next Question\" if str(new_block.hash) == check_string else \"FAILED!!! Try Again\"\n",
    "    print(print_statement)\n",
    "    \n",
    "time = '2019-10-17 00:37:35.256774'\n",
    "data = 'Machine Learning Blockchain AI'\n",
    "previous_hash = '6ffd1464f68ef4aeb385d399244efa19293ba5c842c464a82c02f8256ef71428'\n",
    "index = 0\n",
    "    \n",
    "test_question_1(index, time, data, previous_hash)"
   ]
  },
  {
   "cell_type": "markdown",
   "metadata": {},
   "source": [
    "**Functions for Building the Chain**\n",
    "\n",
    "Now that we have our class Block completed, lets figure out how to make a chain out of them. For a chain, we need to first have a function that creates a genesis block, which serves as the first block of our chain, and then create the function next_block() which builds a new block on top of a given block.\n",
    "\n",
    "create_genesis_block() has been implemented for you. It creates a block with the following specifications. \n",
    "- index = 0\n",
    "- timestamp = Now (whenever the function is being called) \n",
    "- data = \"Genesis Block\"\n",
    "- previous_hash = \"0\"\n",
    "\n",
    "**QUESTION #2: Implement next_block()**\n",
    "\n",
    "We need to implement the function next_block() which takes in 1 parameter:\n",
    "- Last_block = an instance of class Block that is the block that we're building our next block on top of \n",
    "- nonce = Dont do anything with this right now - just pass it in to the Block that you create using the default \n",
    "\n",
    "We want to implement the function so that it returns a new instance of the class Block with the following specifications\n",
    "- index = index of last_block + 1\n",
    "- timestamp = Now (whenever the function is being called)\n",
    "- data = \"Hey! I'm block {index}\"  (for example block w/ index 5 would have data: \"Hey! I'm block 5\")\n",
    "- previous_hash = hash of last_block"
   ]
  },
  {
   "cell_type": "code",
   "execution_count": 10,
   "metadata": {},
   "outputs": [],
   "source": [
    "#Creates the first block with current time and generic data\n",
    "def create_genesis_block():\n",
    "    # Manually construct a block with\n",
    "    # index zero and arbitrary previous hash\n",
    "    return Block(0, date.datetime.now(), \"Genesis Block\", \"0\")\n",
    "\n",
    "#Function that creates the next block, given the last block on the chain you want to mine on\n",
    "def next_block(last_block, nonce=0):\n",
    "    return Block(last_block.index+1, date.datetime.now(), \"Hey! I'm block 1\", last_block.hash, nonce)\n",
    "    "
   ]
  },
  {
   "cell_type": "markdown",
   "metadata": {},
   "source": [
    "**TEST YOUR QUESTION 2 CODE HERE**\n",
    "\n",
    "Run the block of code below"
   ]
  },
  {
   "cell_type": "code",
   "execution_count": 11,
   "metadata": {},
   "outputs": [
    {
     "name": "stdout",
     "output_type": "stream",
     "text": [
      "PASSED!!! Move on to next part\n"
     ]
    }
   ],
   "source": [
    "def test_question_2(genesis_block):\n",
    "    block_1 = next_block(genesis_block)\n",
    "    if block_1.index == 1 and block_1.data == \"Hey! I'm block 1\" and block_1.previous_hash == genesis_block.hash and str(type(block_1.timestamp)) == \"<class 'datetime.datetime'>\":\n",
    "        print(\"PASSED!!! Move on to next part\" )\n",
    "    else:\n",
    "        print(\"FAILED!!! Try again :(\")\n",
    "    \n",
    "\n",
    "genesis_block = create_genesis_block()\n",
    "test_question_2(genesis_block)"
   ]
  },
  {
   "cell_type": "markdown",
   "metadata": {},
   "source": [
    "**Spinning up a Chain**\n",
    "\n",
    "Now that we've created the data structure as well as the functions needed to create the chain, lets see how spinning up an actual instance of this would work. \n",
    "\n",
    "Below we initialize three different variables \n",
    "- blockchain - this is a python list which we initialize with one block inside (the genesis block) \n",
    "- previous_block - this points to our genesis block (since it references the first element in blockchain)\n",
    "- num_blocks - this specifies the number of additional blocks we want to add to our chain \n",
    "\n",
    "**QUESTION 3 complete_chain()**\n",
    "\n",
    "We want to complete the implementation of the function complete_chain(). This function takes in three inputs, which correspond to the initializations that we made. It returns nothing, however by the time we are done running it, the list 'blockchain' that we initialized earlier has been turned into an array of length num_blocks + 1 in which each element is an instance of class Block and each element's self.previous_hash == the previous element's self.hash. Therefore we have created our own mini blockchain!! \n",
    "\n",
    "The for loop and the print statements of complete_chain have been implemented for you, you need to add the statements that ***create a new block on top of previous_block, add it to the block chain, and edit previous block so that the for loop can continue correctly*** \n",
    "\n",
    "****HINT **** --> Literally just do all the things listed in the section immediately above in order \n",
    "\n",
    "If it works out, you should get the same number of print statements as num_blocks"
   ]
  },
  {
   "cell_type": "code",
   "execution_count": 12,
   "metadata": {},
   "outputs": [
    {
     "name": "stdout",
     "output_type": "stream",
     "text": [
      "Block #1 has been added to the blockchain!\n",
      "Hash: ade7da501137fe5707dc6b08631e954e30cb468bf825a74f0c8ccc89984d847b\n",
      "\n",
      "Block #2 has been added to the blockchain!\n",
      "Hash: 0bf7599a81c8f9b6a7488eb04da58ce079263e9514f094cdb1db817cb0db49f5\n",
      "\n",
      "Block #3 has been added to the blockchain!\n",
      "Hash: b248c9c22e901f7f753c14ce672943433833e2f7cf94231fb2ea2dffb91357c4\n",
      "\n",
      "Block #4 has been added to the blockchain!\n",
      "Hash: fc53e15a7755119a17bce5d8f031c348c0cdae632909aa3dae2be6d45ff903b9\n",
      "\n",
      "Block #5 has been added to the blockchain!\n",
      "Hash: 697fe8c2691957f3561fa2198768d6b0ffe0131377799c5defd12c2b96be75b3\n",
      "\n",
      "Block #6 has been added to the blockchain!\n",
      "Hash: 263ad221d8c72256a2f745926761a0098a4eaba9f3115054cb3f53cdab6b0317\n",
      "\n",
      "Block #7 has been added to the blockchain!\n",
      "Hash: 640fa398377c1b7c3352d5a0c492b0c9180180f1d2a854acbe94351c01f5ad3f\n",
      "\n",
      "Block #8 has been added to the blockchain!\n",
      "Hash: 1a3e38457e18954f38579f7aae445623634e835d260eba7433f2f1f42d942728\n",
      "\n",
      "Block #9 has been added to the blockchain!\n",
      "Hash: 2600c1036e3d7033ece43640432c18ad315d2c33dc7eca6e25812f0d8c8e1e0b\n",
      "\n",
      "Block #10 has been added to the blockchain!\n",
      "Hash: d4c9d1ec89dafc864714e1d516bc7ee2a153ee41d43cca2f1bebf1253b1e07cd\n",
      "\n",
      "Block #11 has been added to the blockchain!\n",
      "Hash: ea5c700c8cc8ce0d2e535c880358e5a479c587bcaf138906cf9fef767b64acf9\n",
      "\n",
      "Block #12 has been added to the blockchain!\n",
      "Hash: cd736956b467d7fee042a6d5c69dc3dd1bf26ebd6450a7704871cbe81f6d57f7\n",
      "\n",
      "Block #13 has been added to the blockchain!\n",
      "Hash: d11dc22bbc7ad5e76cb450ca043baf66a1b3f5c6bccf9733332c164d5f1600c9\n",
      "\n",
      "Block #14 has been added to the blockchain!\n",
      "Hash: c4fc6615c12edfb942f55036bdd83c727b71a2b28372cb7ae76dff13972bb174\n",
      "\n",
      "Block #15 has been added to the blockchain!\n",
      "Hash: c7afdca56d9dae85de42dd8700b1f252b64f2b7f4fc15256d222080287587b38\n",
      "\n",
      "Block #16 has been added to the blockchain!\n",
      "Hash: 9deaedde170276ac1124b54e39b617e2258cfcbf53c679834794de48e4ffcc1c\n",
      "\n",
      "Block #17 has been added to the blockchain!\n",
      "Hash: 3a8886760f553c593464349e0588bfc7879c9efc592fecb10b38a1ce89c32177\n",
      "\n",
      "Block #18 has been added to the blockchain!\n",
      "Hash: d34b10afe0e342f0fca0f93362da15fba63c2e2c7e97a52b1e16ae5f0319fb5d\n",
      "\n",
      "Block #19 has been added to the blockchain!\n",
      "Hash: a407efb7f2f09ee0049643a2a6af0cc87b734f1f41d59b13cf9f5e20ceda63f6\n",
      "\n",
      "Block #20 has been added to the blockchain!\n",
      "Hash: 458bcd07bb7441dd001f54aa41e1d661e20f02633a327c8d32aeca8561c94297\n",
      "\n"
     ]
    }
   ],
   "source": [
    "# Create the blockchain and add the genesis block\n",
    "blockchain = [create_genesis_block()]\n",
    "\n",
    "#Create our initial reference to previous block which points to the genesis block\n",
    "previous_block = blockchain[0]\n",
    "\n",
    "# How many blocks should we add to the chain after the genesis block\n",
    "num_blocks = 20\n",
    "\n",
    "def complete_chain(num_blocks, blockchain, previous_block):\n",
    "    # Add blocks to the chain\n",
    "    for i in range(0, num_blocks):\n",
    "        #Your code for QUESTION 3 Here \n",
    "\n",
    "        block_to_add = next_block(blockchain[len(blockchain)-1])\n",
    "        blockchain.append(block_to_add)\n",
    "        #Your code for QUESTION 3 ends Here\n",
    "        # Tell everyone about it!\n",
    "        print(\"Block #{} has been added to the blockchain!\".format(block_to_add.index))\n",
    "        print(\"Hash: {}\\n\".format(block_to_add.hash))\n",
    "\n",
    "complete_chain(num_blocks, blockchain, previous_block)"
   ]
  },
  {
   "cell_type": "markdown",
   "metadata": {},
   "source": [
    "**TEST YOUR QUESTION 3 CODE HERE**\n",
    "\n",
    "Run the block of code below"
   ]
  },
  {
   "cell_type": "code",
   "execution_count": 13,
   "metadata": {},
   "outputs": [
    {
     "name": "stdout",
     "output_type": "stream",
     "text": [
      "PASSED!!! Move on to the next Part\n"
     ]
    }
   ],
   "source": [
    "def test_question_3(blockchain, num_blocks):\n",
    "    correct = True\n",
    "    if len(blockchain) != num_blocks + 1:\n",
    "        correct = False\n",
    "    for i in range(len(blockchain)-1):\n",
    "        if blockchain[i + 1].previous_hash != blockchain[i].hash:\n",
    "            correct = False\n",
    "            break\n",
    "    print_statement = \"PASSED!!! Move on to the next Part\" if correct else \"FAILED!!! Try Again :(\"\n",
    "    print(print_statement)\n",
    "\n",
    "test_question_3(blockchain, num_blocks)"
   ]
  },
  {
   "cell_type": "markdown",
   "metadata": {},
   "source": [
    "# Proof of Work Simulation"
   ]
  },
  {
   "cell_type": "markdown",
   "metadata": {},
   "source": [
    "In this section we will be doing a simulation of the proof-of-work consensus mechanism that the Bitcoin Blockchain (among others) uses. Let us define some of the concepts that we will be dealing with in this section. \n",
    "\n",
    "**The Nonce** --> Randomly generated value that we add to our concatenation of our block to add variance to our hashes\n",
    "\n",
    "**Difficulty** --> Specified by the network (in theory, here it is specified by us). Defines the number of hashes that are valid out of all possible values. Higher difficulty indicates a lower number of valid hashes. \n",
    "\n",
    "**QUESTION 4: generate_nonce(), generate_difficulty_bound(), find_next_block()**\n",
    "\n",
    "**Part 1 - Description** \n",
    "\n",
    "The functions **generate_nonce()** and **generate_difficulty_bound()** have been implemented below for you. The first part of this question involves reading through, them understanding them completely, and writing a quick 1 - 2 line summary of what they are supposed to do and how they are implemented (write it in the space given, 2 cells below).\n",
    "\n",
    "**Part 2 - Implementation**\n",
    "\n",
    "The second part of this question is to complete the implementation of find_next_block(). This function's purpose is to try different blocks with the same data, index etc. but different nonces that satisfy the difficulty metric specified. The difficulty bound has already been generated for you and the first block has been created. You have to complete the implementation so that: \n",
    "- You find a nonce such that the hash of the block is less than the difficulty bound. \n",
    "- All data from new block has to be the same (including the timestamp, for simplicity purposes) and the only thing changing is the nonce \n",
    "- For our learning purposes, increment the hashes_tried parameter appropriately everytime you try a hash so that we can see the number of hashes tried and how this correlates to our difficulty value. \n",
    "\n",
    "**HINTS**\n",
    "- How do you turn a hash string into its hex prepresentation that you can compare???\n",
    "- if your implementation is working, you should notice something interesting about all the hashes of the blocks that you are getting when you run the code cell labeled \"Create Proof of work Blockchain\"**\n",
    "\n",
    "\n",
    "\n",
    "**you can test question 4 in the a few cells below this one, after running all the cells in between**"
   ]
  },
  {
   "cell_type": "code",
   "execution_count": 34,
   "metadata": {},
   "outputs": [],
   "source": [
    "import time\n",
    "\n",
    "def generate_nonce(length=20):\n",
    "    return ''.join([str(rand.randint(0, 9)) for i in range(length)])\n",
    "\n",
    "def generate_difficulty_bound(difficulty=1):\n",
    "    diff_str = \"\"\n",
    "    for i in range(difficulty):\n",
    "        diff_str += '0'\n",
    "    for i in range(64 - difficulty):\n",
    "        diff_str += 'F'\n",
    "    diff_str = \"0x\" + diff_str  # \"0x\" needs to be added at the front to specify that it is a hex representation\n",
    "    return(int(diff_str, 16))  # Specifies that we want to create an integer of base 16 (as opposed to the default base 10)\n",
    "\n",
    "#Given a previous block and a difficulty metric, finds a nonce that results in a lower hash value\n",
    "def find_next_block(last_block, difficulty, nonce_length):\n",
    "    difficulty_bound = generate_difficulty_bound(difficulty)\n",
    "    start = time.process_time() \n",
    "    new_block = next_block(last_block)\n",
    "    hashes_tried = 1 \n",
    "    #Your code for QUESTION 4 Starts here \n",
    "    while True:\n",
    "        if int(new_block.hash_block(),16)< difficulty_bound:\n",
    "            break;\n",
    "        new_block = next_block(last_block, generate_nonce())\n",
    "        hashes_tried+=1\n",
    "    #Your code for QUESTION 4 Ends here \n",
    "    time_taken = time.process_time() - start\n",
    "    return(time_taken, hashes_tried, new_block)"
   ]
  },
  {
   "cell_type": "markdown",
   "metadata": {},
   "source": [
    "**QUESTION 4 Description Section**\n",
    "\n",
    "Describe the following functions: \n",
    "\n",
    "- generate_nonce():         ######It creates a random hex representation that we can use to generate the next block######\n",
    "\n",
    "- generate_difficulty_bound():        ######This the complexity bound that we define as necessary to mine the next block######"
   ]
  },
  {
   "cell_type": "markdown",
   "metadata": {},
   "source": [
    "The cell below creates our proof of work blockchain in a similar way that we do in the earlier section. \n",
    "\n",
    "Some initializations:\n",
    "- blockchain_pow: Our new python list that signifies our proof of work blockchain, with the genesis block inside\n",
    "- previous_block: The first block to use as previous block to build upon\n",
    "- num_blocks: number of additional blocks to add to teh chain\n",
    "- difficulty: difficulty of the network \n",
    "- nonce_length: length of the randomly generated nonce"
   ]
  },
  {
   "cell_type": "markdown",
   "metadata": {},
   "source": [
    "### Create Proof of Work Blockchain "
   ]
  },
  {
   "cell_type": "code",
   "execution_count": 35,
   "metadata": {},
   "outputs": [
    {
     "name": "stdout",
     "output_type": "stream",
     "text": [
      "Block #1 has been added to the blockchain!\n",
      "7991 Hashes Tried!\n",
      "Time taken to find block: 0.3077969999999999\n",
      "Hash: 0007890f39237cd3250f33c6ad65b7f1598552a7bffb9190d95d353b45e8e455\n",
      "\n",
      "Block #2 has been added to the blockchain!\n",
      "14870 Hashes Tried!\n",
      "Time taken to find block: 0.5733819999999996\n",
      "Hash: 0009b47dcae9363e42dc1d9a1fde41aab7bb79f0d9b37cf3f4d56a09b5883b16\n",
      "\n",
      "Block #3 has been added to the blockchain!\n",
      "6740 Hashes Tried!\n",
      "Time taken to find block: 0.26592199999999977\n",
      "Hash: 000a9100f27766026248a4e89302905c3590c495e4d2200b4409f0a7f0514396\n",
      "\n",
      "Block #4 has been added to the blockchain!\n",
      "3249 Hashes Tried!\n",
      "Time taken to find block: 0.1491680000000004\n",
      "Hash: 000d4888a69142ae7b3f7e287dc2c34c0a7e0c0302b6ad341b6945a44ff71a11\n",
      "\n",
      "Block #5 has been added to the blockchain!\n",
      "3827 Hashes Tried!\n",
      "Time taken to find block: 0.15894899999999978\n",
      "Hash: 0009d937127dcda8874e0da80b319223f7f5fbcd558fa250e6322dab6ad35598\n",
      "\n",
      "Block #6 has been added to the blockchain!\n",
      "7126 Hashes Tried!\n",
      "Time taken to find block: 0.29672500000000035\n",
      "Hash: 00099e25793dcdb841690176293f54dc9214303c87056de59b78ca53ad76bae2\n",
      "\n",
      "Block #7 has been added to the blockchain!\n",
      "196 Hashes Tried!\n",
      "Time taken to find block: 0.00821000000000005\n",
      "Hash: 0008666b25972cc25f822ec72a8ebbee8bf880bf31ee7342b0f81604ea89a609\n",
      "\n",
      "Block #8 has been added to the blockchain!\n",
      "10747 Hashes Tried!\n",
      "Time taken to find block: 0.41171000000000024\n",
      "Hash: 0009652132fb6620e06ef42ad60b1086ab4c3ebf4e55112ab13bb28222a9ff81\n",
      "\n",
      "Block #9 has been added to the blockchain!\n",
      "3721 Hashes Tried!\n",
      "Time taken to find block: 0.14534999999999965\n",
      "Hash: 00036993049a585991a756356ea3ee894d12cae249f6e981ff5a12c05489f6be\n",
      "\n",
      "Block #10 has been added to the blockchain!\n",
      "2453 Hashes Tried!\n",
      "Time taken to find block: 0.11691900000000022\n",
      "Hash: 000b6c7f0175a43a218bb6c2d7c9743f0074976dced6798c27dfe2150cd1ff67\n",
      "\n",
      "Block #11 has been added to the blockchain!\n",
      "85 Hashes Tried!\n",
      "Time taken to find block: 0.0035080000000000666\n",
      "Hash: 000a0f5a14d534f7e6bdc032f9937fd8bee1dc674625cff20a8f4e860d6f28f2\n",
      "\n",
      "Block #12 has been added to the blockchain!\n",
      "8734 Hashes Tried!\n",
      "Time taken to find block: 0.36099000000000014\n",
      "Hash: 0006e84a52945394bafcb19711f9d66e176cef610e014f15e15d36066d5bfa91\n",
      "\n",
      "Block #13 has been added to the blockchain!\n",
      "244 Hashes Tried!\n",
      "Time taken to find block: 0.010933000000000526\n",
      "Hash: 000fc220c4e58a4d44b5de60e3df73c80a236b2680309093458a2c615d76e53c\n",
      "\n",
      "Block #14 has been added to the blockchain!\n",
      "3119 Hashes Tried!\n",
      "Time taken to find block: 0.1301199999999998\n",
      "Hash: 00010f49c034db80c4c44cc3c88407b2631be445114ad1e86bf71a9528faadf3\n",
      "\n",
      "Block #15 has been added to the blockchain!\n",
      "1090 Hashes Tried!\n",
      "Time taken to find block: 0.044793999999999556\n",
      "Hash: 000358dbef630310fe7cdb78c95f25c76f16b73d932ea542f7f32e38cc3a1f0f\n",
      "\n",
      "Block #16 has been added to the blockchain!\n",
      "3967 Hashes Tried!\n",
      "Time taken to find block: 0.15769900000000003\n",
      "Hash: 000f8fd11175b4e6953190a681e19ac29f1c588b4fb94ac39d35c15f2afe631a\n",
      "\n",
      "Block #17 has been added to the blockchain!\n",
      "284 Hashes Tried!\n",
      "Time taken to find block: 0.010995999999999562\n",
      "Hash: 00034723625b83a7baaf43679b4cfee9f82939177d778341e1d75db72854e87b\n",
      "\n",
      "Block #18 has been added to the blockchain!\n",
      "2067 Hashes Tried!\n",
      "Time taken to find block: 0.08548400000000012\n",
      "Hash: 000e00a2a8edbd0d8a817a86f7008c6b07770835e9f6cf8ecacc9e05d1d7a60c\n",
      "\n",
      "Block #19 has been added to the blockchain!\n",
      "798 Hashes Tried!\n",
      "Time taken to find block: 0.03182300000000016\n",
      "Hash: 0005d3bb71ed7c7fed3d39ba4c0c9677372aa2fe74d2f9c7a42d655bb8d725ed\n",
      "\n",
      "Block #20 has been added to the blockchain!\n",
      "7776 Hashes Tried!\n",
      "Time taken to find block: 0.30256600000000056\n",
      "Hash: 0009c19ea0e087d64fcd9731867e5f563e94c23f16a6ccb9cdfd32641dc02465\n",
      "\n"
     ]
    }
   ],
   "source": [
    "# Create the blockchain and add the genesis block\n",
    "blockchain_pow = [create_genesis_block()]\n",
    "\n",
    "#Create our initial reference to previous block which points to the genesis block\n",
    "previous_block = blockchain_pow[0]\n",
    "\n",
    "# How many blocks should we add to the chain after genesis block\n",
    "num_blocks = 20\n",
    "\n",
    "#magnitude of difficulty of hash - number of zeroes that must be in the beginning of the hash\n",
    "difficulty = 3\n",
    "\n",
    "#length of nonce that will be generated and added\n",
    "nonce_length = 20\n",
    "\n",
    "# Add blocks to the chain based on difficulty with nonces of length nonce_length\n",
    "def create_pow_blockchain(num_blocks, difficulty, blockchain_pow, previous_block, nonce_length, print_data=1):\n",
    "    hash_array = []\n",
    "    time_array = []\n",
    "    for i in range(0, num_blocks):\n",
    "        time_taken, hashes_tried, block_to_add = find_next_block(previous_block, difficulty, nonce_length)\n",
    "        blockchain_pow.append(block_to_add)\n",
    "        previous_block = block_to_add\n",
    "        hash_array.append(hashes_tried)\n",
    "        time_array.append(time_taken)\n",
    "        # Tell everyone about it!\n",
    "        if print_data:\n",
    "            print(\"Block #{} has been added to the blockchain!\".format(block_to_add.index))\n",
    "            print(\"{} Hashes Tried!\".format(hashes_tried))\n",
    "            print(\"Time taken to find block: {}\".format(time_taken))\n",
    "            print(\"Hash: {}\\n\".format(block_to_add.hash))\n",
    "    return(hash_array, time_array)\n",
    "\n",
    "hash_array, time_array = create_pow_blockchain(num_blocks, difficulty, blockchain_pow, previous_block, nonce_length)"
   ]
  },
  {
   "cell_type": "markdown",
   "metadata": {},
   "source": [
    "**TEST YOUR QUESTION 4 CODE HERE**\n",
    "\n",
    "Run the block of code below"
   ]
  },
  {
   "cell_type": "code",
   "execution_count": 36,
   "metadata": {},
   "outputs": [
    {
     "name": "stdout",
     "output_type": "stream",
     "text": [
      "PASSED!!! Move on to the next Part\n"
     ]
    }
   ],
   "source": [
    "def test_question_4(blockchain_pow, num_blocks):\n",
    "    correct = True\n",
    "    bound = generate_difficulty_bound(difficulty)\n",
    "    if len(blockchain_pow) != num_blocks + 1:\n",
    "        correct = False\n",
    "    for i in range(len(blockchain_pow) - 1):\n",
    "        if blockchain_pow[i + 1].previous_hash != blockchain_pow[i].hash:\n",
    "            correct = False\n",
    "            break\n",
    "        if int(blockchain_pow[i + 1].hash, 16) > bound:\n",
    "            correct = False\n",
    "            break\n",
    "    print_statement = \"PASSED!!! Move on to the next Part\" if correct else \"FAILED!!! Try Again :(\"\n",
    "    print(print_statement)\n",
    "            \n",
    "test_question_4(blockchain_pow, num_blocks)"
   ]
  },
  {
   "cell_type": "markdown",
   "metadata": {},
   "source": [
    "Once you have passed the above test case, you can do things like play around with the difficulties and nonce lengths and seeing that happens "
   ]
  },
  {
   "cell_type": "markdown",
   "metadata": {},
   "source": [
    "# Note: The sections below are optional but super cool!"
   ]
  },
  {
   "cell_type": "markdown",
   "metadata": {},
   "source": [
    "# Distributed Network + Compute Power Simulation"
   ]
  },
  {
   "cell_type": "markdown",
   "metadata": {},
   "source": [
    "In this section, instead of simulating a single node that carries out all the proof of work calculations, we will create a bunch of different nodes that will all compete to find different blocks. These nodes will all have different compute powers that we will be able to specify. Below we will define the MinerNodeNaive class which has an init function to create an instance, as well as a try_hash function that allows it to try a hash and see if it works. "
   ]
  },
  {
   "cell_type": "code",
   "execution_count": 38,
   "metadata": {},
   "outputs": [],
   "source": [
    "#Naive miner class that races with other miners to see who can get a certain number of blocks first \n",
    "class MinerNodeNaive: \n",
    "    def __init__(self, name, compute):\n",
    "        self.name = name \n",
    "        self.compute = compute\n",
    "    \n",
    "    def try_hash(self, diff_value, chain):\n",
    "        last_block = chain[-1]\n",
    "        difficulty = generate_difficulty_bound(diff_value)\n",
    "        date_now = date.datetime.now()\n",
    "        this_index = last_block.index + 1\n",
    "        this_timestamp = date_now\n",
    "        this_data = \"Hey! I'm block \" + str(this_index)\n",
    "        this_hash = last_block.hash\n",
    "        new_block = Block(this_index, this_timestamp, this_data, this_hash)\n",
    "        if int(new_block.hash, 16) < difficulty:\n",
    "            chain.append(new_block)\n",
    "            # Tell everyone about it!\n",
    "            print(\"Block #{} has been added to the blockchain!\".format(new_block.index))\n",
    "            print(\"Block found by: {}\".format(self.name))\n",
    "            print(\"Hash: {}\\n\".format(new_block.hash))\n",
    "        "
   ]
  },
  {
   "cell_type": "markdown",
   "metadata": {},
   "source": [
    "**Question #5: Describe the Following Cells**\n",
    "\n",
    "In the next 4 cells I try to simulate a bunch of different miners with different compute powers. However this isn't completely indicative of how a real system works, and is limited by what I had to work with. Read through the code, and run all of the cells and explain what is happening in a paragrpah. Also explain how this is different from real world vanilla proof of work systems and how this simulation isn't completely accurate of what's actually happening while nodes race to find the next block. There is a cell at the bottom where you can enter your description.  "
   ]
  },
  {
   "cell_type": "code",
   "execution_count": 39,
   "metadata": {},
   "outputs": [],
   "source": [
    "#Initialize multiple miners on the network \n",
    "berkeley_Miner = MinerNodeNaive(\"Berkeley Miner\", 10)\n",
    "stanford_Miner = MinerNodeNaive(\"Stanford Miner\", 5)\n",
    "MIT_Miner = MinerNodeNaive(\"MIT Miner\", 2)\n",
    "UCLA_Miner = MinerNodeNaive(\"UCLA Miner\", 1)\n",
    "\n",
    "miner_array = [berkeley_Miner, stanford_Miner, MIT_Miner, UCLA_Miner]"
   ]
  },
  {
   "cell_type": "code",
   "execution_count": 40,
   "metadata": {},
   "outputs": [],
   "source": [
    "def create_compute_simulation(miner_array):\n",
    "    compute_array = []\n",
    "    for miner in miner_array:\n",
    "        for i in range(miner.compute):\n",
    "            compute_array.append(miner.name)\n",
    "    return(compute_array)\n",
    "\n",
    "compute_simulation_array = create_compute_simulation(miner_array)\n",
    "rand.shuffle(compute_simulation_array)"
   ]
  },
  {
   "cell_type": "code",
   "execution_count": 41,
   "metadata": {},
   "outputs": [],
   "source": [
    "chain_length = 20\n",
    "blockchain_distributed = [create_genesis_block()]\n",
    "genesis_block_dist = blockchain_distributed[0]\n",
    "chain_difficulty = [rand.randint(2,4) for i in range(chain_length)]"
   ]
  },
  {
   "cell_type": "code",
   "execution_count": 42,
   "metadata": {},
   "outputs": [
    {
     "name": "stdout",
     "output_type": "stream",
     "text": [
      "Block #1 has been added to the blockchain!\n",
      "Block found by: Stanford Miner\n",
      "Hash: 00079fb78478ba6dc01bdf7a9c140ea7b46ae3fdece90cc3dff12e8cba021fc0\n",
      "\n",
      "Block #2 has been added to the blockchain!\n",
      "Block found by: MIT Miner\n",
      "Hash: 0092351782180155063cbb8f507f6f54c6a8b5e4a9a9f087ec9ea147c42fcf4b\n",
      "\n",
      "Block #3 has been added to the blockchain!\n",
      "Block found by: Stanford Miner\n",
      "Hash: 000a5350775cd953c4fc475767331f6b3e75913ad4b4b44e81b7f36bf3d5e132\n",
      "\n",
      "Block #4 has been added to the blockchain!\n",
      "Block found by: Stanford Miner\n",
      "Hash: 0003eb43e0ebaa7ca5f20ec22cf3e6d1a7e7d26c111acbce17afdfd547298f23\n",
      "\n",
      "Block #5 has been added to the blockchain!\n",
      "Block found by: UCLA Miner\n",
      "Hash: 00006e4cc1ec5823b4b326c0c8e948c793701af9794abd681402c6e961fb8c19\n",
      "\n",
      "Block #6 has been added to the blockchain!\n",
      "Block found by: Berkeley Miner\n",
      "Hash: 00db505ddcbfa2d368b2a3af73694b84f1e9cc4c6b91d6fe40dfa12e8dbb69d6\n",
      "\n",
      "Block #7 has been added to the blockchain!\n",
      "Block found by: Stanford Miner\n",
      "Hash: 0007a74e3e6ccf5e0aa20419f91b29fa3b088f6ea094ac87685198e0909e02a9\n",
      "\n",
      "Block #8 has been added to the blockchain!\n",
      "Block found by: MIT Miner\n",
      "Hash: 00e31a4fcfbaa888239c41dc259d5fcd6ba7aa216d0fee0cfff17cf37fde794d\n",
      "\n",
      "Block #9 has been added to the blockchain!\n",
      "Block found by: Stanford Miner\n",
      "Hash: 00004cd6225f7b8f64026b3285f7e590704986babbc874d2b76057353358e4e8\n",
      "\n",
      "Block #10 has been added to the blockchain!\n",
      "Block found by: UCLA Miner\n",
      "Hash: 00001a67f836d9015bbfc534cabd12904a7afba9578f867654fc1d447c8d7e4b\n",
      "\n",
      "Block #11 has been added to the blockchain!\n",
      "Block found by: Stanford Miner\n",
      "Hash: 00d8ebb83d3f507db7a961af031cf5705176f7838dde880f5ddc5da68d9e3119\n",
      "\n",
      "Block #12 has been added to the blockchain!\n",
      "Block found by: Berkeley Miner\n",
      "Hash: 00075002ceb275ddf57b7e529147b42912d28e42043d0937406df614f4ad812c\n",
      "\n",
      "Block #13 has been added to the blockchain!\n",
      "Block found by: Berkeley Miner\n",
      "Hash: 0000ceba4715a6fa01c692f39ff40d1fbc4bef21d34b292529322906d33345e6\n",
      "\n",
      "Block #14 has been added to the blockchain!\n",
      "Block found by: Berkeley Miner\n",
      "Hash: 000ddecced2e1c911461d93a49b26a3a571a61cac669bdc47f56107681fd60ef\n",
      "\n",
      "Block #15 has been added to the blockchain!\n",
      "Block found by: Berkeley Miner\n",
      "Hash: 00003766e8142133dac2b6e84c38b040ceecace21283e52eb244994e25bdc819\n",
      "\n",
      "Block #16 has been added to the blockchain!\n",
      "Block found by: Stanford Miner\n",
      "Hash: 004082d2ae8cb65bb21f0b1680c151e83847f19ead87015ad0120c682a2e88f6\n",
      "\n",
      "Block #17 has been added to the blockchain!\n",
      "Block found by: Berkeley Miner\n",
      "Hash: 0043086ea50ba41e997e46c3e9d37117629225a0ac4a68227e681560f6f74c07\n",
      "\n",
      "Block #18 has been added to the blockchain!\n",
      "Block found by: Berkeley Miner\n",
      "Hash: 00180a3be65f8205b8e56591893d1fb5ccf27976707db5a701234b34d7ea5f95\n",
      "\n",
      "Block #19 has been added to the blockchain!\n",
      "Block found by: Berkeley Miner\n",
      "Hash: 0000e0ac2401c153fa60e2a79303be39a16bc93b82f8c5a19ac7b1c047a96f89\n",
      "\n",
      "Block #20 has been added to the blockchain!\n",
      "Block found by: Berkeley Miner\n",
      "Hash: 000b2999ea8f980d5c93b5a43984d1787ad5547522f6250b9b1cc14cbb9490ad\n",
      "\n"
     ]
    }
   ],
   "source": [
    "for i in range(len(chain_difficulty)): \n",
    "    while len(blockchain_distributed) < i + 2:\n",
    "        next_miner_str = rand.sample(compute_simulation_array, 1)[0] \n",
    "        next_miner = berkeley_Miner #random default (go bears)\n",
    "        for miner in miner_array:\n",
    "            if next_miner_str == miner.name:\n",
    "                next_miner = miner\n",
    "        next_miner.try_hash(chain_difficulty[i], blockchain_distributed)\n",
    "        "
   ]
  },
  {
   "cell_type": "markdown",
   "metadata": {},
   "source": [
    "**Question 5 Description Here**\n",
    "\n",
    "- Description: **#####The miners with greater compute power are more likely to mine the next block####**"
   ]
  },
  {
   "cell_type": "markdown",
   "metadata": {
    "collapsed": true
   },
   "source": [
    "# Blockchain Data Analytics"
   ]
  },
  {
   "cell_type": "markdown",
   "metadata": {
    "collapsed": true
   },
   "source": [
    "Here we will use data analytics to analyze the number of hashes we need to try before we find a valid hash, given a difficulty level. Look through the code briefly (in depth is not necessary), run all of the cells, and answer the question at the bottom. (difficulty level 3 takes a bit of time so dont be alarmed if this next cell takes a bit of time to run). "
   ]
  },
  {
   "cell_type": "code",
   "execution_count": 43,
   "metadata": {},
   "outputs": [
    {
     "name": "stdout",
     "output_type": "stream",
     "text": [
      "Difficulty Level: 1 complete\n",
      "Difficulty Level: 2 complete\n",
      "Difficulty Level: 3 complete\n",
      "Difficulty Level: 4 complete\n"
     ]
    }
   ],
   "source": [
    "blockchain = [create_genesis_block()]\n",
    "previous_block = blockchain[0]\n",
    "num_blocks = 10\n",
    "\n",
    "#3 different types of difficulty to analyze\n",
    "difficulty_0 = 1\n",
    "difficulty_1 = 2\n",
    "difficulty_2 = 3\n",
    "difficulty_3 = 4\n",
    "\n",
    "nonce_length = 20\n",
    "\n",
    "hash_array_0, time_array_0 = create_pow_blockchain(num_blocks, difficulty_0, blockchain, previous_block, nonce_length, 0)\n",
    "print(\"Difficulty Level: {} complete\".format(difficulty_0))\n",
    "hash_array_1, time_array_1 = create_pow_blockchain(num_blocks, difficulty_1, blockchain, previous_block, nonce_length, 0)\n",
    "print(\"Difficulty Level: {} complete\".format(difficulty_1))\n",
    "hash_array_2, time_array_2 = create_pow_blockchain(num_blocks, difficulty_2, blockchain, previous_block, nonce_length, 0)\n",
    "print(\"Difficulty Level: {} complete\".format(difficulty_2))\n",
    "hash_array_3, time_array_3 = create_pow_blockchain(num_blocks, difficulty_3, blockchain, previous_block, nonce_length, 0)\n",
    "print(\"Difficulty Level: {} complete\".format(difficulty_3))"
   ]
  },
  {
   "cell_type": "code",
   "execution_count": 44,
   "metadata": {},
   "outputs": [],
   "source": [
    "mean_arr_hash = [np.mean(hash_array_0), np.mean(hash_array_1), np.mean(hash_array_2), np.mean(hash_array_3)]\n",
    "mean_arr_time = [np.mean(time_array_0), np.mean(time_array_1), np.mean(time_array_2), np.mean(time_array_3)]"
   ]
  },
  {
   "cell_type": "code",
   "execution_count": 46,
   "metadata": {},
   "outputs": [
    {
     "data": {
      "image/png": "[encoded data removed]",
      "text/plain": [
       "<Figure size 432x288 with 1 Axes>"
      ]
     },
     "metadata": {
      "needs_background": "light"
     },
     "output_type": "display_data"
    }
   ],
   "source": [
    "plt.plot(mean_arr_hash)\n",
    "plt.show()"
   ]
  },
  {
   "cell_type": "code",
   "execution_count": 47,
   "metadata": {},
   "outputs": [
    {
     "data": {
      "image/png": "[encoded data removed]",
      "text/plain": [
       "<Figure size 432x288 with 1 Axes>"
      ]
     },
     "metadata": {
      "needs_background": "light"
     },
     "output_type": "display_data"
    }
   ],
   "source": [
    "plt.plot(mean_arr_time)\n",
    "plt.show()"
   ]
  },
  {
   "cell_type": "code",
   "execution_count": 48,
   "metadata": {},
   "outputs": [
    {
     "name": "stdout",
     "output_type": "stream",
     "text": [
      "Factor of difficulty increase from 1 to 2: 14.219696969696969\n",
      "Factor of difficulty increase from 2 to 3: 15.24826851358551\n",
      "Factor of difficulty increase from 3 to 4: 12.59393452360155\n"
     ]
    }
   ],
   "source": [
    "diff_factor_1 = np.mean(hash_array_1)/np.mean(hash_array_0)\n",
    "diff_factor_2 = np.mean(hash_array_2)/np.mean(hash_array_1)\n",
    "diff_factor_3 = np.mean(hash_array_3)/np.mean(hash_array_2)\n",
    "print(\"Factor of difficulty increase from 1 to 2: {}\".format(diff_factor_1))\n",
    "print(\"Factor of difficulty increase from 2 to 3: {}\".format(diff_factor_2))\n",
    "print(\"Factor of difficulty increase from 3 to 4: {}\".format(diff_factor_3))"
   ]
  },
  {
   "cell_type": "markdown",
   "metadata": {},
   "source": [
    "**Question 6: This one is simple**\n",
    "\n",
    "Look at the factor of difficulty increase from each level to the subsequent level, printed from the cell above.\n",
    "\n",
    "What whould the factor of difficulty increase be for each level: **12x**"
   ]
  },
  {
   "cell_type": "markdown",
   "metadata": {},
   "source": [
    "**Check Off**\n",
    "\n",
    "If you have filled out all the skeleton code and put down your answers for the questions, let any of the instructor know and we will check you off!\n",
    "\n",
    "If you cannot finish it this class, you have until next week's class to finish check off and earn points.\n"
   ]
  }
 ],
 "metadata": {
  "kernelspec": {
   "display_name": "Python 3",
   "language": "python",
   "name": "python3"
  },
  "language_info": {
   "codemirror_mode": {
    "name": "ipython",
    "version": 3
   },
   "file_extension": ".py",
   "mimetype": "text/x-python",
   "name": "python",
   "nbconvert_exporter": "python",
   "pygments_lexer": "ipython3",
   "version": "3.7.6"
  }
 },
 "nbformat": 4,
 "nbformat_minor": 2
}
